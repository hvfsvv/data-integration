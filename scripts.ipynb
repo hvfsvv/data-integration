{
 "cells": [
  {
   "cell_type": "markdown",
   "metadata": {},
   "source": [
    "# Scripts"
   ]
  },
  {
   "cell_type": "markdown",
   "metadata": {},
   "source": [
    "### 1.Creation Of MySql DataBase"
   ]
  },
  {
   "cell_type": "code",
   "execution_count": null,
   "metadata": {
    "vscode": {
     "languageId": "sql"
    }
   },
   "outputs": [],
   "source": [
    "CREATE DATABASE IF NOT EXISTS movies;\n",
    "USE movies;\n",
    "\n",
    "-- Table des Films (Fact Table)\n",
    "CREATE TABLE Fact_Movie (\n",
    "    movie_id INT AUTO_INCREMENT PRIMARY KEY,\n",
    "    title VARCHAR(255),\n",
    "    release_year INT,\n",
    "    worldwide_revenue BIGINT,\n",
    "    domestic_revenue BIGINT,\n",
    "    domestic_percentage DECIMAL(5,2),\n",
    "    foreign_revenue BIGINT,\n",
    "    foreign_percentage DECIMAL(5,2),\n",
    "    rating DECIMAL(3,1),\n",
    "    vote_count INT,\n",
    "    original_language VARCHAR(10)\n",
    ");\n",
    "\n",
    "-- Table des Genres (Dimension)\n",
    "CREATE TABLE Dim_Genre (\n",
    "    genre_id INT AUTO_INCREMENT PRIMARY KEY,\n",
    "    genre_name VARCHAR(100) UNIQUE\n",
    ");\n",
    "\n",
    "-- Table de relation Many-to-Many entre Films et Genres\n",
    "CREATE TABLE Movie_Genre (\n",
    "    movie_id INT,\n",
    "    genre_id INT,\n",
    "    PRIMARY KEY (movie_id, genre_id),\n",
    "    FOREIGN KEY (movie_id) REFERENCES Fact_Movie(movie_id) ON DELETE CASCADE,\n",
    "    FOREIGN KEY (genre_id) REFERENCES Dim_Genre(genre_id) ON DELETE CASCADE\n",
    ");\n",
    "\n",
    "-- Table des Pays de Production (Dimension)\n",
    "CREATE TABLE Dim_ProductionCountry (\n",
    "    country_id INT AUTO_INCREMENT PRIMARY KEY,\n",
    "    country_name VARCHAR(100) UNIQUE\n",
    ");\n",
    "\n",
    "-- Table de relation Many-to-Many entre Films et Pays\n",
    "CREATE TABLE Movie_ProductionCountry (\n",
    "    movie_id INT,\n",
    "    country_id INT,\n",
    "    PRIMARY KEY (movie_id, country_id),\n",
    "    FOREIGN KEY (movie_id) REFERENCES Fact_Movie(movie_id) ON DELETE CASCADE,\n",
    "    FOREIGN KEY (country_id) REFERENCES Dim_ProductionCountry(country_id) ON DELETE CASCADE\n",
    ");\n"
   ]
  },
  {
   "cell_type": "markdown",
   "metadata": {},
   "source": [
    "### 2. Load of the CSV File into the DW"
   ]
  },
  {
   "cell_type": "code",
   "execution_count": null,
   "metadata": {
    "vscode": {
     "languageId": "bat"
    }
   },
   "outputs": [],
   "source": [
    "pip install pymysql"
   ]
  },
  {
   "cell_type": "code",
   "execution_count": null,
   "metadata": {},
   "outputs": [],
   "source": [
    "import pymysql\n",
    "import pandas as pd\n",
    "\n",
    "# Charger le fichier CSV\n",
    "df = pd.read_csv(\"movies_box_office.csv\")\n",
    "df = df.dropna()\n",
    "\n",
    "\n",
    "try:\n",
    "    # Connexion MySQL\n",
    "    conn = pymysql.connect(\n",
    "        host=\"localhost\",\n",
    "        user=\"root\",\n",
    "        password=\"\",  # Mets ton mot de passe MySQL si nécessaire\n",
    "        database=\"movies\"\n",
    "    )\n",
    "\n",
    "    cursor = conn.cursor()\n",
    "    print(\"✅ Successfully connected to MySQL!\")\n",
    "\n",
    "    # Renommer les colonnes pour correspondre à la base de données\n",
    "    df = df.rename(columns={\n",
    "        \"Release Group\": \"title\",\n",
    "        \"Year\": \"release_year\",\n",
    "        \"$Worldwide\": \"worldwide_revenue\",\n",
    "        \"$Domestic\": \"domestic_revenue\",\n",
    "        \"Domestic %\": \"domestic_percentage\",\n",
    "        \"$Foreign\": \"foreign_revenue\",\n",
    "        \"Foreign %\": \"foreign_percentage\",\n",
    "        \"Rating\": \"rating\",\n",
    "        \"Vote_Count\": \"vote_count\",\n",
    "        \"Original_Language\": \"original_language\",\n",
    "        \"Production_Countries\": \"production_country\",\n",
    "        \"Genres\": \"genre\"\n",
    "    })\n",
    "\n",
    "    # Remplacer les NaN par None\n",
    "    df = df.where(pd.notna(df), None)\n",
    "\n",
    "    # Insérer les films\n",
    "    for _, row in df.iterrows():\n",
    "        cursor.execute(\"\"\"\n",
    "            INSERT INTO Fact_Movie (title, release_year, worldwide_revenue, domestic_revenue, domestic_percentage, \n",
    "                                    foreign_revenue, foreign_percentage, rating, vote_count, original_language)\n",
    "            VALUES (%s, %s, %s, %s, %s, %s, %s, %s, %s, %s)\n",
    "        \"\"\", (row[\"title\"], row[\"release_year\"], row[\"worldwide_revenue\"], row[\"domestic_revenue\"],\n",
    "              row[\"domestic_percentage\"], row[\"foreign_revenue\"], row[\"foreign_percentage\"], row[\"rating\"],\n",
    "              row[\"vote_count\"], row[\"original_language\"]))\n",
    "\n",
    "        movie_id = cursor.lastrowid  # Récupérer l'ID du film inséré\n",
    "\n",
    "        # Insérer les genres dans Dim_Genre et Movie_Genre\n",
    "        if row[\"genre\"]:\n",
    "            genres = row[\"genre\"].split(\", \")  # Séparer les genres\n",
    "            for genre in genres:\n",
    "                cursor.execute(\"INSERT IGNORE INTO Dim_Genre (genre_name) VALUES (%s)\", (genre,))\n",
    "                cursor.execute(\"SELECT genre_id FROM Dim_Genre WHERE genre_name = %s\", (genre,))\n",
    "                genre_id = cursor.fetchone()[0]\n",
    "                cursor.execute(\"INSERT IGNORE INTO Movie_Genre (movie_id, genre_id) VALUES (%s, %s)\", (movie_id, genre_id))\n",
    "\n",
    "        # Insérer les pays de production dans Dim_ProductionCountry et Movie_ProductionCountry\n",
    "        if row[\"production_country\"]:\n",
    "            countries = row[\"production_country\"].split(\", \")  # Séparer les pays\n",
    "            for country in countries:\n",
    "                cursor.execute(\"INSERT IGNORE INTO Dim_ProductionCountry (country_name) VALUES (%s)\", (country,))\n",
    "                cursor.execute(\"SELECT country_id FROM Dim_ProductionCountry WHERE country_name = %s\", (country,))\n",
    "                country_id = cursor.fetchone()[0]\n",
    "                cursor.execute(\"INSERT IGNORE INTO Movie_ProductionCountry (movie_id, country_id) VALUES (%s, %s)\", (movie_id, country_id))\n",
    "\n",
    "    conn.commit()\n",
    "    print(\"✅ Data successfully inserted!\")\n",
    "\n",
    "except pymysql.MySQLError as err:\n",
    "    print(f\"❌ MySQL error: {err}\")\n",
    "\n",
    "finally:\n",
    "    if 'cursor' in locals():\n",
    "        cursor.close()\n",
    "    if 'conn' in locals() and conn.open:\n",
    "        conn.close()\n",
    "        print(\"🔌 MySQL connection closed.\")"
   ]
  },
  {
   "cell_type": "markdown",
   "metadata": {},
   "source": [
    "### 2. Neo4j DataBase"
   ]
  },
  {
   "cell_type": "markdown",
   "metadata": {},
   "source": [
    "Neo4j was used in this project to handle unstructured and semi-structured data efficiently. Unlike traditional SQL databases, Neo4j allows us to represent relationships in a natural graph format, making it easier to analyze connections between movies, genres, languages, and reviews."
   ]
  },
  {
   "cell_type": "markdown",
   "metadata": {},
   "source": []
  },
  {
   "cell_type": "code",
   "execution_count": null,
   "metadata": {},
   "outputs": [],
   "source": [
    "\n",
    "pip install neo4j\n"
   ]
  },
  {
   "cell_type": "code",
   "execution_count": null,
   "metadata": {},
   "outputs": [],
   "source": [
    "from neo4j import GraphDatabase\n",
    "\n",
    "# Connect to your Neo4j instance (update with your credentials)\n",
    "URI = \"bolt://localhost:7687\"  # Change if using a remote database\n",
    "USERNAME = \"neo4j\"\n",
    "PASSWORD = \"neo4jmovie\"\n",
    "\n",
    "# Create a Neo4j connection\n",
    "driver = GraphDatabase.driver(URI, auth=(USERNAME, PASSWORD))\n",
    "\n",
    "def run_query(query):\n",
    "    with driver.session() as session:\n",
    "        result = session.run(query)\n",
    "        return [record for record in result]\n"
   ]
  },
  {
   "cell_type": "markdown",
   "metadata": {},
   "source": [
    "### 2. Neo4j DataBase"
   ]
  },
  {
   "cell_type": "markdown",
   "metadata": {},
   "source": [
    "### **Get All Romance Movies**"
   ]
  },
  {
   "cell_type": "code",
   "execution_count": null,
   "metadata": {},
   "outputs": [],
   "source": [
    "query = \"\"\"\n",
    "MATCH (m:Movie)-[:BELONGS_TO]->(g:Genre {name: \"Romance\"})\n",
    "RETURN m.title, m.year, m.metadata\n",
    "ORDER BY m.year DESC\n",
    "\"\"\"\n",
    "\n",
    "romance_movies = run_query(query)\n",
    "\n",
    "# Display results\n",
    "for record in romance_movies:\n",
    "    print(record[\"m.title\"], record[\"m.year\"])\n"
   ]
  },
  {
   "cell_type": "markdown",
   "metadata": {},
   "source": [
    "### **Get All genres**"
   ]
  },
  {
   "cell_type": "code",
   "execution_count": null,
   "metadata": {},
   "outputs": [],
   "source": [
    "query = \"MATCH (g:Genre) RETURN g.name ORDER BY g.name\"\n",
    "genres = run_query(query)\n",
    "\n",
    "for record in genres:\n",
    "    print(record[\"g.name\"])\n"
   ]
  },
  {
   "cell_type": "markdown",
   "metadata": {},
   "source": [
    "### **Average Box Office Revenue Per Genre:**"
   ]
  },
  {
   "cell_type": "code",
   "execution_count": null,
   "metadata": {},
   "outputs": [],
   "source": [
    "query = \"\"\"\n",
    "MATCH (m:Movie)-[:BELONGS_TO]->(g:Genre)\n",
    "RETURN g.name AS Genre, avg(m.worldwide_revenue) AS AvgRevenue\n",
    "ORDER BY AvgRevenue DESC\n",
    "\"\"\"\n",
    "\n",
    "avg_revenue_per_genre = run_query(query)\n",
    "\n",
    "print(\"Average Box Office Revenue Per Genre:\")\n",
    "for record in avg_revenue_per_genre:\n",
    "    print(f\"{record['Genre']}: ${record['AvgRevenue']}\")\n",
    "\n"
   ]
  },
  {
   "cell_type": "markdown",
   "metadata": {},
   "source": [
    "### **Top 10 Highest-Grossing Movies:**"
   ]
  },
  {
   "cell_type": "code",
   "execution_count": null,
   "metadata": {},
   "outputs": [],
   "source": [
    "query = \"\"\"\n",
    "MATCH (m:Movie)\n",
    "RETURN m.title, m.worldwide_revenue AS revenue\n",
    "ORDER BY revenue DESC\n",
    "LIMIT 10\n",
    "\"\"\"\n",
    "\n",
    "top_movies = run_query(query)\n",
    "\n",
    "print(\"Top 10 Highest-Grossing Movies:\")\n",
    "for record in top_movies:\n",
    "    revenue = record[\"revenue\"] if record[\"revenue\"] is not None else \"N/A\"\n",
    "    print(f\"{record['m.title']} - ${revenue}\")\n"
   ]
  },
  {
   "cell_type": "markdown",
   "metadata": {},
   "source": [
    "### **Get languages**"
   ]
  },
  {
   "cell_type": "code",
   "execution_count": null,
   "metadata": {},
   "outputs": [],
   "source": [
    "query = \"MATCH (l:Language) RETURN l.name ORDER BY l.name\"\n",
    "languages = run_query(query)\n",
    "\n",
    "print(\"Languages Available:\")\n",
    "for record in languages:\n",
    "    print(record[\"l.name\"])\n"
   ]
  },
  {
   "cell_type": "markdown",
   "metadata": {},
   "source": [
    "### **Find Movies Produced in a Specific Country (e.g., France)**"
   ]
  },
  {
   "cell_type": "code",
   "execution_count": null,
   "metadata": {},
   "outputs": [],
   "source": [
    "query = \"\"\"\n",
    "MATCH (m:Movie)-[:PRODUCED_IN]->(c:Country {name: \"France\"})\n",
    "RETURN m.title, m.year\n",
    "ORDER BY m.year DESC\n",
    "\"\"\"\n",
    "\n",
    "french_movies = run_query(query)\n",
    "\n",
    "print(\"Movies Produced in France:\")\n",
    "for record in french_movies:\n",
    "    print(f\"{record['m.title']} ({record['m.year']})\")\n"
   ]
  },
  {
   "cell_type": "markdown",
   "metadata": {},
   "source": [
    "### **Get number movies per genre**"
   ]
  },
  {
   "cell_type": "code",
   "execution_count": null,
   "metadata": {},
   "outputs": [],
   "source": [
    "query = \"\"\"\n",
    "MATCH (m:Movie)-[:BELONGS_TO]->(g:Genre)\n",
    "RETURN g.name AS Genre, count(m) AS MovieCount\n",
    "ORDER BY MovieCount DESC\n",
    "\"\"\"\n",
    "\n",
    "movies_per_genre = run_query(query)\n",
    "\n",
    "print(\"Number of Movies Per Genre:\")\n",
    "for record in movies_per_genre:\n",
    "    print(f\"{record['Genre']}: {record['MovieCount']} movies\")\n"
   ]
  },
  {
   "cell_type": "markdown",
   "metadata": {},
   "source": [
    "**Creation DATABASE**"
   ]
  },
  {
   "cell_type": "markdown",
   "metadata": {},
   "source": [
    "We split the data into multiple files to avoid duplication and improve efficiency. A movie can have multiple genres, languages, and countries, so storing everything in one file would repeat data. Instead, we created separate nodes in Neo4j and linked them with relationships, making searches faster and more organized. We also extracted key details from metadata for better querying. This structure follows best practices for handling connected data efficiently."
   ]
  },
  {
   "cell_type": "markdown",
   "metadata": {},
   "source": [
    "**Movies (Unstructured)**\n"
   ]
  },
  {
   "cell_type": "code",
   "execution_count": null,
   "metadata": {},
   "outputs": [],
   "source": [
    "LOAD CSV WITH HEADERS FROM 'file:///Movies_Unstructured_Cleaned.csv' AS row\n",
    "CREATE (:Movie {\n",
    "    title: row.title,\n",
    "    year: toInteger(row.year),\n",
    "    description: row.description,\n",
    "    metadata: row.metadata\n",
    "})"
   ]
  },
  {
   "cell_type": "markdown",
   "metadata": {},
   "source": [
    "**Genres**"
   ]
  },
  {
   "cell_type": "code",
   "execution_count": null,
   "metadata": {},
   "outputs": [],
   "source": [
    "LOAD CSV WITH HEADERS FROM 'file:///Genres.csv' AS row\n",
    "CREATE (:Genre {name: row.name});"
   ]
  },
  {
   "cell_type": "markdown",
   "metadata": {},
   "source": [
    "**Movie-Genre Relationships**"
   ]
  },
  {
   "cell_type": "code",
   "execution_count": null,
   "metadata": {},
   "outputs": [],
   "source": [
    "LOAD CSV WITH HEADERS FROM 'file:///Movie-Genre.csv' AS row\n",
    "MATCH (m:Movie {title: row.title})\n",
    "MATCH (g:Genre {name: row.genre})\n",
    "CREATE (m)-[:BELONGS_TO]->(g);"
   ]
  },
  {
   "cell_type": "markdown",
   "metadata": {},
   "source": [
    "**Countries**"
   ]
  },
  {
   "cell_type": "code",
   "execution_count": null,
   "metadata": {},
   "outputs": [],
   "source": [
    "LOAD CSV WITH HEADERS FROM 'file:///Countries.csv' AS row\n",
    "CREATE (:Country {name: row.name});"
   ]
  },
  {
   "cell_type": "markdown",
   "metadata": {},
   "source": [
    "**Movie-Country Relationships**"
   ]
  },
  {
   "cell_type": "code",
   "execution_count": null,
   "metadata": {},
   "outputs": [],
   "source": [
    "LOAD CSV WITH HEADERS FROM 'file:///Movie-Country.csv' AS row\n",
    "MATCH (m:Movie {title: row.title})\n",
    "MATCH (c:Country {name: row.country})\n",
    "CREATE (m)-[:PRODUCED_IN]->(c);\n"
   ]
  },
  {
   "cell_type": "markdown",
   "metadata": {},
   "source": [
    "**Languages**"
   ]
  },
  {
   "cell_type": "code",
   "execution_count": null,
   "metadata": {},
   "outputs": [],
   "source": [
    "LOAD CSV WITH HEADERS FROM 'file:///Languages.csv' AS row\n",
    "CREATE (:Language {name: row.name});"
   ]
  },
  {
   "cell_type": "markdown",
   "metadata": {},
   "source": [
    "**Movie-Language Relationships**"
   ]
  },
  {
   "cell_type": "code",
   "execution_count": null,
   "metadata": {},
   "outputs": [],
   "source": [
    "LOAD CSV WITH HEADERS FROM 'file:///Movie-Language.csv' AS row\n",
    "MATCH (m:Movie {title: row.title})\n",
    "MATCH (l:Language {name: row.language})\n",
    "CREATE (m)-[:LANGUAGE_IS]->(l);"
   ]
  },
  {
   "cell_type": "markdown",
   "metadata": {},
   "source": [
    "**Reviews (Unstructured)**"
   ]
  },
  {
   "cell_type": "code",
   "execution_count": null,
   "metadata": {},
   "outputs": [],
   "source": [
    "LOAD CSV WITH HEADERS FROM 'file:///Reviews.csv' AS row\n",
    "MATCH (m:Movie {title: row.title})\n",
    "CREATE (r:Review {text: row.text, sentiment_score: toFloat(row.sentiment_score)})\n",
    "CREATE (r)-[:HAS_REVIEW]->(m);\n"
   ]
  }
 ],
 "metadata": {
  "kernelspec": {
   "display_name": "Python 3",
   "language": "python",
   "name": "python3"
  },
  "language_info": {
   "codemirror_mode": {
    "name": "ipython",
    "version": 3
   },
   "file_extension": ".py",
   "mimetype": "text/x-python",
   "name": "python",
   "nbconvert_exporter": "python",
   "pygments_lexer": "ipython3",
   "version": "3.10.2"
  }
 },
 "nbformat": 4,
 "nbformat_minor": 2
}
