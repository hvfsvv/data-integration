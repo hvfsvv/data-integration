{
 "cells": [
  {
   "cell_type": "markdown",
   "metadata": {},
   "source": [
    "# Data Integration Project\n",
    "## Movie Box Office Analysis\n"
   ]
  },
  {
   "cell_type": "markdown",
   "metadata": {},
   "source": [
    "#### Project Members: Hafsa Redouane, Wahiba Sbai, Najlaa Allioui, Sarah Shahin"
   ]
  },
  {
   "cell_type": "markdown",
   "metadata": {},
   "source": [
    "## Summary"
   ]
  },
  {
   "cell_type": "markdown",
   "metadata": {},
   "source": [
    "1) Objective and context of the DW and NoSQL integration.\n",
    "2) Schema design and implementation.\n",
    "3) Description and motivation for the queries.\n",
    "4) Analysis of results and visualization.\n",
    "5) Clustering analysis and conclusions.\n"
   ]
  },
  {
   "cell_type": "markdown",
   "metadata": {},
   "source": [
    "## 1. Objective and context of the DW and NoSQL integration."
   ]
  },
  {
   "cell_type": "markdown",
   "metadata": {},
   "source": [
    "\n",
    "\n",
    "### a.Context of the Dataset\n",
    "The **Movies Box Office Dataset (2000-2024)** provides a comprehensive overview of **global box office performance** over the past two decades. It includes key financial and categorical data related to **movie revenues, production costs, genres, audience ratings, and linguistic distributions**. The dataset enables the analysis of **financial profitability, audience preferences, and market trends in the film industry**.  \n"
   ]
  },
  {
   "cell_type": "markdown",
   "metadata": {},
   "source": [
    "<img src=\"presentation.jpg\" width=\"400\">"
   ]
  },
  {
   "cell_type": "markdown",
   "metadata": {},
   "source": [
    "\n",
    "\n",
    "### Key Features of the Dataset:\n",
    "- **Timeframe:** Covers movies released from **2000 to 2024**.  \n",
    "- **Metrics:** Includes **worldwide revenue, domestic and foreign gross, profit margins**.  \n",
    "- **Genres:** Provides classification into **multiple genres per movie**, enabling trend analysis.  \n",
    "- **Audience Ratings:** Includes **average ratings and vote counts** from various platforms.  \n",
    "- **Language and Country Information:** Specifies the **original language** and **production countries** of each movie.  \n",
    "\n",
    "\n",
    "## b.Objective of the Data Warehouse (DW)\n",
    "The objective of building a Data Warehouse (DW) for this dataset is to structure and optimize data storage for efficient querying and analysis. Instead of dealing with unstructured movie data, a dimensional model (snowflake schema) is used to allow fast OLAP queries, data aggregation, and trend analysis.  \n",
    "\n",
    "The Data Warehouse is designed to optimize data analysis by structuring information for trend exploration, forecasting, and visualization. It enables aggregated metric calculations, such as total revenue per genre, highest-grossing movies by country, and profitability trends over the years. With support for OLAP queries—including CUBE, ROLLUP, and GROUP BY—the system facilitates multi-dimensional data exploration, allowing for in-depth insights into revenue distribution and market performance.\n",
    "\n",
    "\n",
    "## c.NoSQL Integration with Neo4j\n",
    "While the Data Warehouse (DW) handles structured data, the relationships between movies, genres, and production companies can be better represented using a graph database (NoSQL). This is where Neo4j comes in. \n",
    "\n",
    "Neo4j is highly optimized for handling complex relationships, making it ideal for managing many-to-many connections between movies, genres, and production countries, which can be challenging in traditional relational databases. Its efficient graph queries allow for fast traversal of relationships, enabling advanced searches such as \"Find all action movies produced in Canada that generated over $500M in revenue\" with greater speed and flexibility. Additionally, its graph-based structure provides a real-world representation of the film industry by accurately modeling the connections between movies, actors, genres, and studios, making data exploration more intuitive and insightful.\n"
   ]
  },
  {
   "cell_type": "markdown",
   "metadata": {},
   "source": [
    "## 2. Schema design and implementation.\n"
   ]
  },
  {
   "cell_type": "markdown",
   "metadata": {},
   "source": [
    "### a.Data WareHouse(MySql)"
   ]
  },
  {
   "cell_type": "markdown",
   "metadata": {},
   "source": [
    "### Main Tables:  \n",
    "- **Fact_Movie**: Contains essential information about movies, including title, release year, revenue, rating, and other key attributes.  \n",
    "- **Dim_Genre**: Stores movie genres, enabling clear classification and analysis.  \n",
    "- **Movie_Genre**: Manages the many-to-many relationship between movies and their associated genres.  \n",
    "- **Dim_ProductionCountry**: Lists the production countries for movies.  \n",
    "- **Movie_ProductionCountry**: Establishes the links between movies and their respective production countries."
   ]
  },
  {
   "cell_type": "markdown",
   "metadata": {},
   "source": [
    "<img src=\"shema.png\" width=\"700\">"
   ]
  },
  {
   "cell_type": "markdown",
   "metadata": {},
   "source": [
    "### **SQL Code:**  \n",
    "\n",
    "The following script creates the database and the necessary tables for its proper functioning.  \n"
   ]
  },
  {
   "cell_type": "code",
   "execution_count": null,
   "metadata": {
    "vscode": {
     "languageId": "sql"
    }
   },
   "outputs": [],
   "source": [
    "CREATE DATABASE IF NOT EXISTS movies;\n",
    "USE movies;\n",
    "\n",
    "-- Movies Table (Fact Table)\n",
    "CREATE TABLE Fact_Movie (\n",
    "    movie_id INT AUTO_INCREMENT PRIMARY KEY,\n",
    "    title VARCHAR(255),\n",
    "    release_year INT,\n",
    "    worldwide_revenue BIGINT,\n",
    "    domestic_revenue BIGINT,\n",
    "    domestic_percentage DECIMAL(5,2),\n",
    "    foreign_revenue BIGINT,\n",
    "    foreign_percentage DECIMAL(5,2),\n",
    "    rating DECIMAL(3,1),\n",
    "    vote_count INT,\n",
    "    original_language VARCHAR(10)\n",
    ");\n",
    "\n",
    "-- Genre Table (Dimension)\n",
    "CREATE TABLE Dim_Genre (\n",
    "    genre_id INT AUTO_INCREMENT PRIMARY KEY,\n",
    "    genre_name VARCHAR(100) UNIQUE\n",
    ");\n",
    "\n",
    "-- Many-to-Many Relationship Table between Movies and Genres\n",
    "CREATE TABLE Movie_Genre (\n",
    "    movie_id INT,\n",
    "    genre_id INT,\n",
    "    PRIMARY KEY (movie_id, genre_id),\n",
    "    FOREIGN KEY (movie_id) REFERENCES Fact_Movie(movie_id) ON DELETE CASCADE,\n",
    "    FOREIGN KEY (genre_id) REFERENCES Dim_Genre(genre_id) ON DELETE CASCADE\n",
    ");\n",
    "\n",
    "-- Production Countries Table (Dimension)\n",
    "CREATE TABLE Dim_ProductionCountry (\n",
    "    country_id INT AUTO_INCREMENT PRIMARY KEY,\n",
    "    country_name VARCHAR(100) UNIQUE\n",
    ");\n",
    "\n",
    "-- Many-to-Many Relationship Table between Movies and Production Countries\n",
    "CREATE TABLE Movie_ProductionCountry (\n",
    "    movie_id INT,\n",
    "    country_id INT,\n",
    "    PRIMARY KEY (movie_id, country_id),\n",
    "    FOREIGN KEY (movie_id) REFERENCES Fact_Movie(movie_id) ON DELETE CASCADE,\n",
    "    FOREIGN KEY (country_id) REFERENCES Dim_ProductionCountry(country_id) ON DELETE CASCADE\n",
    ");"
   ]
  },
  {
   "cell_type": "markdown",
   "metadata": {},
   "source": [
    "### b.Neo4j"
   ]
  },
  {
   "cell_type": "markdown",
   "metadata": {},
   "source": [
    "<img src=\"neo.png\" width=\"700\">"
   ]
  },
  {
   "cell_type": "markdown",
   "metadata": {},
   "source": [
    "This schema represents how movies are connected to different entities in our dataset.\n",
    "\n",
    "- **BELONGS_TO (Movie → Genre): Links movies to their genres (e.g., Inception → Sci-Fi).\n",
    "- **PRODUCED_IN (Movie → Country): Shows where a movie was produced (e.g., Parasite → South Korea).\n",
    "- **LANGUAGE_IS (Movie → Language): Indicates the movie’s primary language (e.g., La La Land → English).\n",
    "- **HAS_REVIEW (Movie → Review): Connects movies to user reviews and ratings."
   ]
  },
  {
   "cell_type": "markdown",
   "metadata": {},
   "source": [
    "### **2. Installing Dependencies**  \n",
    "\n",
    "To ensure communication between Python and MySQL, we installed **pymysql**, which allows executing SQL queries from a Python script.  \n",
    "\n",
    "```bash"
   ]
  },
  {
   "cell_type": "code",
   "execution_count": null,
   "metadata": {},
   "outputs": [],
   "source": [
    "pip install pymysql\n"
   ]
  },
  {
   "cell_type": "markdown",
   "metadata": {},
   "source": [
    "### **3. Data Loading and Cleaning**  \n",
    "\n",
    "We used **pandas** to load a CSV file containing detailed information about movies. This step ensures that only clean and usable data is inserted into the database.  \n",
    "\n",
    "**Operations performed:**  \n",
    "- Removal of missing values to prevent errors during insertion.  \n",
    "- Renaming columns to ensure consistency with the database schema.  \n",
    "- Converting text fields into appropriate formats (e.g., separating genres and production countries for better data normalization)."
   ]
  },
  {
   "cell_type": "markdown",
   "metadata": {},
   "source": [
    "### **Python Code:**  \n",
    "\n",
    "This script loads data from the CSV file and inserts it into the MySQL database."
   ]
  },
  {
   "cell_type": "code",
   "execution_count": null,
   "metadata": {},
   "outputs": [],
   "source": [
    "import pymysql\n",
    "import pandas as pd\n",
    "\n",
    "# Chargement des données\n",
    "print(\"Chargement des données...\")\n",
    "df = pd.read_csv(\"movies_box_office.csv\").dropna()\n",
    "print(\"Données chargées avec succès.\")\n",
    "\n",
    "# Connexion à MySQL\n",
    "print(\"Connexion à la base de données...\")\n",
    "conn = pymysql.connect(host=\"localhost\", user=\"root\", password=\"\", database=\"movies\")\n",
    "cursor = conn.cursor()\n",
    "print(\"Connexion réussie.\")\n",
    "\n",
    "# Insertion des données\n",
    "print(\"Insertion des données en cours...\")\n",
    "for _, row in df.iterrows():\n",
    "    cursor.execute(\"\"\"\n",
    "        INSERT INTO Fact_Movie (title, release_year, worldwide_revenue, domestic_revenue, \n",
    "                                domestic_percentage, foreign_revenue, foreign_percentage, \n",
    "                                rating, vote_count, original_language)\n",
    "        VALUES (%s, %s, %s, %s, %s, %s, %s, %s, %s, %s)\n",
    "    \"\"\", (row[\"title\"], row[\"release_year\"], row[\"worldwide_revenue\"], row[\"domestic_revenue\"],\n",
    "           row[\"domestic_percentage\"], row[\"foreign_revenue\"], row[\"foreign_percentage\"],\n",
    "           row[\"rating\"], row[\"vote_count\"], row[\"original_language\"]))\n",
    "print(\"Insertion terminée.\")\n",
    "\n",
    "# Validation et fermeture de la connexion\n",
    "conn.commit()\n",
    "cursor.close()\n",
    "conn.close()\n",
    "print(\"Connexion fermée.\")"
   ]
  },
  {
   "cell_type": "markdown",
   "metadata": {},
   "source": [
    "\n",
    "## 3. Description and motivation for the queries \n",
    "\n",
    "***We designed and executed various queries to facilitate data insertion, relationship modeling, and analytical insights across both relational and graph databases.***  \n",
    "\n",
    "- **Data Insertion Queries (MySQL):**  \n",
    "  - We processed the **movies_box_office.csv** file and inserted movie details into the **Fact_Movie** table.  \n",
    "  - **Genre and production country relationships** were managed using **Dim_Genre** and **Dim_ProductionCountry**, ensuring proper normalization and avoiding data redundancy.  \n",
    "  - We utilized **`INSERT IGNORE` statements** to prevent duplicate entries and maintain consistency across linked tables.  \n",
    "\n",
    "- **Graph Database Queries (Neo4j - Cypher):**  \n",
    "  - We imported movies into Neo4j using **`LOAD CSV WITH HEADERS`**, enabling structured ingestion of unstructured data.  \n",
    "  - **Relationships between movies, genres, and production countries** were established using **Cypher queries**, allowing efficient traversal and retrieval.  \n",
    "  - We stored additional metadata for unstructured analysis, highlighting the flexibility of graph databases in handling diverse data formats.  \n",
    "\n",
    "- **Analytical and Aggregation Queries:**  \n",
    "  - We executed **OLAP-style queries (CUBE, ROLLUP)** to aggregate revenue based on different dimensions, such as year, genre, and country.  \n",
    "  - **Correlation analysis queries** helped us explore relationships between movie ratings, revenue, and production origins.  \n",
    "  - We performed **clustering queries** using k-means segmentation to group movies based on revenue and rating patterns.  \n",
    "\n",
    "These queries collectively enhance data exploration and support meaningful insights, demonstrating the advantages of integrating **MySQL for structured storage** and **Neo4j for relationship-driven analysis**. \n",
    "\n",
    "\n"
   ]
  },
  {
   "cell_type": "markdown",
   "metadata": {},
   "source": [
    "###  4. Analysis of Results and Visualization \n",
    "\n",
    "We applied various visualization techniques to better analyze trends, relationships between entities, and key insights from the dataset.  \n",
    "\n",
    "**Techniques used:**  \n",
    "- **OLAP Analysis and Aggregations:** Using **CUBE** and **ROLLUP** queries, data matrices were generated to explore revenue aggregates (global, domestic, and foreign) based on movie release years and genre classifications.  \n",
    "\n",
    "- **Graphical Representation with Python:** Different visualizations were created using **Matplotlib** and **Seaborn** to highlight key insights:  \n",
    "  - **Histograms** to illustrate the distribution of movie revenues.   \n",
    "  - **Scatter plots** to analyze the correlation between movie ratings and worldwide revenue.  \n"
   ]
  },
  {
   "cell_type": "markdown",
   "metadata": {},
   "source": [
    "Example: "
   ]
  },
  {
   "cell_type": "markdown",
   "metadata": {},
   "source": [
    "<img src=\"avenger.png\" >"
   ]
  },
  {
   "cell_type": "markdown",
   "metadata": {},
   "source": [
    "\n",
    "- **Graph Database Visualization with Neo4j:** Interactive graph visualizations were created using **Cypher** queries to showcase relationships between movies, genres, and production countries. This approach facilitates understanding complex connections, such as industry influences on global box office performance. "
   ]
  },
  {
   "cell_type": "markdown",
   "metadata": {},
   "source": [
    "example:"
   ]
  },
  {
   "cell_type": "markdown",
   "metadata": {},
   "source": [
    "<img src=\"bloom.png\" >"
   ]
  },
  {
   "cell_type": "markdown",
   "metadata": {},
   "source": [
    "\n",
    "\n",
    "This graph shows the **Neo4j Bloom interface**, which provides a powerful way to explore the graph database visually.\n",
    "We can see here all the movies that belong to the **Romance Categorie**."
   ]
  },
  {
   "cell_type": "markdown",
   "metadata": {},
   "source": [
    " \n",
    "\n",
    "- **Clustering Analysis:** A **k-means clustering** analysis was conducted to segment movies based on revenue and ratings, helping to distinguish different groups based on commercial and critical success.  \n",
    "\n",
    "\n",
    "- **Graph Database Visualization with Neo4j:**  \n",
    "  - We created interactive graph visualizations to explore relationships between movies, genres, and production countries.  \n",
    "  - This allowed us to analyze network-based trends, such as the influence of certain film industries on global box office performance.  \n",
    "\n",
    "- **Clustering Analysis:**  \n",
    "  - Using **k-means clustering**, we segmented movies into different groups based on revenue and ratings.  \n",
    "  - This helped us classify movies into high-grossing blockbusters, critically acclaimed films, and lower-performing releases.  \n"
   ]
  },
  {
   "cell_type": "markdown",
   "metadata": {},
   "source": [
    "### 5. Clustering Analysis and Conclusions\n",
    "\n",
    "***We performed clustering analysis to group movies based on revenue and ratings, uncovering patterns that define different categories of films.***  \n",
    "\n",
    "- **K-Means Clustering for Movie Segmentation:**  \n",
    "  - We applied **k-means clustering** to divide movies into groups based on **worldwide revenue and ratings**.  \n",
    "  - This helped us identify trends among different types of movies, such as:  \n",
    "    - **Blockbusters** (high revenue, high ratings).  \n",
    "    - **Critically acclaimed films** (low revenue, high ratings).  \n",
    "    - **Commercial failures** (low revenue, low ratings).  \n",
    "\n",
    "- **Feature Selection for Clustering:**  \n",
    "  - We used **rating, vote count, and revenue** as clustering variables.  \n",
    "  - Preprocessing steps included standardizing data to ensure fair distance calculations.  \n",
    "\n",
    "- **Cluster Visualization and Interpretation:**  \n",
    "  - The clusters were visualized using **scatter plots**, highlighting the separation between different types of movies.  \n",
    "  - The results demonstrated that high-budget productions tend to have higher revenue, but ratings do not always correlate with financial success.  "
   ]
  },
  {
   "cell_type": "markdown",
   "metadata": {},
   "source": [
    "<img src=\"vis.png\" >"
   ]
  },
  {
   "cell_type": "markdown",
   "metadata": {},
   "source": [
    "| *Cluster #* | *Corresponds to* | *Key Characteristics* |\n",
    "|--------------|------------------|-------------------|\n",
    "| *Cluster 1* | *High-revenue blockbusters* | Movies with *high revenue, **high vote count, genres **Action, Sci-Fi, Adventure, mainly produced in **US/UK* |\n",
    "| *Cluster 2* | *Moderate-budget well-received movies*  | Medium revenue, genres *Comedy, Drama, Romance, produced in a mix of **Europe/Asia* |\n",
    "| *Cluster 3* | *Niche movies or horror/thriller* | Low revenue, genres *Horror, Thriller, Independent Drama*, targeting a smaller audience |\n",
    "| *Cluster 4* | *Very unpopular movies* | Very low revenue, few votes, genres *Documentary, Experimental*, often from emerging countries |"
   ]
  },
  {
   "cell_type": "markdown",
   "metadata": {},
   "source": [
    "\n",
    "\n",
    "**Cluster 1**: Films with high worldwide and domestic revenue, a high number of votes, and a high rating.\n",
    "\n",
    "- **Characteristics**: These films are generally popular blockbusters, with wide international distribution.\n",
    "- **Genres**: Mainly popular genres like Action, Science Fiction, Adventure, etc.\n",
    "- **Production Countries**: Mostly films produced in the United States and the United Kingdom.\n",
    "\n",
    "\n",
    "**Cluster 2**: Films with medium revenue, moderate ratings, and fewer votes.\n",
    "\n",
    "- **Characteristics**: These films are likely to belong to the medium-budget category, but still well-received by the audience.\n",
    "- **Genres**: Genres like Comedy, Drama, and Romance, which attract a more specific audience.\n",
    "- **Production Countries**: A mix of films produced in European or Asian countries.\n",
    "\n",
    "\n",
    "**Cluster 3**: Films with low revenue and fewer votes, but with niche genres.\n",
    "\n",
    "- **Characteristics**: These films may be less popular globally but may have a niche audience or a loyal fanbase.\n",
    "- **Genres**: Genres like Horror, Thriller, or Independent Drama, which attract a smaller, more specific audience.\n",
    "- **Production Countries**: Emerging countries or low-budget productions are likely predominant here.\n",
    "\n",
    "\n",
    "\n",
    "**Cluster 4**: Films with low revenue, lower ratings, and very few votes.\n",
    "\n",
    "- **Characteristics**: These films are very unpopular, likely low-budget, and have limited international distribution.\n",
    "- **Genres**: Often experimental genres, Documentaries, or films that are highly specific to certain cultures.\n",
    "- **Production Countries**: Films produced in emerging countries or with very limited budgets.\n",
    "\n",
    "\n"
   ]
  }
 ],
 "metadata": {
  "kernelspec": {
   "display_name": "base",
   "language": "python",
   "name": "python3"
  },
  "language_info": {
   "codemirror_mode": {
    "name": "ipython",
    "version": 3
   },
   "file_extension": ".py",
   "mimetype": "text/x-python",
   "name": "python",
   "nbconvert_exporter": "python",
   "pygments_lexer": "ipython3",
   "version": "3.12.4"
  }
 },
 "nbformat": 4,
 "nbformat_minor": 2
}
